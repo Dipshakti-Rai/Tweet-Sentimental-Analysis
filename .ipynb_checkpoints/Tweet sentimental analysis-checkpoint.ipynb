{
  "nbformat": 4,
  "nbformat_minor": 0,
  "metadata": {
    "colab": {
      "name": "Untitled3.ipynb",
      "provenance": []
    },
    "kernelspec": {
      "name": "python3",
      "display_name": "Python 3"
    },
    "language_info": {
      "name": "python"
    },
    "accelerator": "GPU",
    "gpuClass": "standard"
  },
  "cells": [
    {
      "cell_type": "code",
      "execution_count": 1,
      "metadata": {
        "id": "Oov8rtGvluHl"
      },
      "outputs": [],
      "source": [
        "import numpy as np\n",
        "import pandas as pd\n",
        "import matplotlib.pyplot as plt\n",
        "import tensorflow as tf"
      ]
    },
    {
      "cell_type": "code",
      "source": [
        "df=pd.read_csv(\"/content/sentiment_tweets3.csv\")"
      ],
      "metadata": {
        "id": "6Vkfegtklw7N"
      },
      "execution_count": 2,
      "outputs": []
    },
    {
      "cell_type": "code",
      "source": [
        "df.head()"
      ],
      "metadata": {
        "colab": {
          "base_uri": "https://localhost:8080/",
          "height": 206
        },
        "id": "LcZPvhVamR57",
        "outputId": "988e8638-9893-4db3-c5ab-6afeb8e08590"
      },
      "execution_count": 3,
      "outputs": [
        {
          "output_type": "execute_result",
          "data": {
            "text/plain": [
              "   Index                                 message to examine  \\\n",
              "0    106  just had a real good moment. i missssssssss hi...   \n",
              "1    217         is reading manga  http://plurk.com/p/mzp1e   \n",
              "2    220  @comeagainjen http://twitpic.com/2y2lx - http:...   \n",
              "3    288  @lapcat Need to send 'em to my accountant tomo...   \n",
              "4    540      ADD ME ON MYSPACE!!!  myspace.com/LookThunder   \n",
              "\n",
              "   label (depression result)  \n",
              "0                          0  \n",
              "1                          0  \n",
              "2                          0  \n",
              "3                          0  \n",
              "4                          0  "
            ],
            "text/html": [
              "\n",
              "  <div id=\"df-611c472a-54b3-4f69-9c58-da34fc965eef\">\n",
              "    <div class=\"colab-df-container\">\n",
              "      <div>\n",
              "<style scoped>\n",
              "    .dataframe tbody tr th:only-of-type {\n",
              "        vertical-align: middle;\n",
              "    }\n",
              "\n",
              "    .dataframe tbody tr th {\n",
              "        vertical-align: top;\n",
              "    }\n",
              "\n",
              "    .dataframe thead th {\n",
              "        text-align: right;\n",
              "    }\n",
              "</style>\n",
              "<table border=\"1\" class=\"dataframe\">\n",
              "  <thead>\n",
              "    <tr style=\"text-align: right;\">\n",
              "      <th></th>\n",
              "      <th>Index</th>\n",
              "      <th>message to examine</th>\n",
              "      <th>label (depression result)</th>\n",
              "    </tr>\n",
              "  </thead>\n",
              "  <tbody>\n",
              "    <tr>\n",
              "      <th>0</th>\n",
              "      <td>106</td>\n",
              "      <td>just had a real good moment. i missssssssss hi...</td>\n",
              "      <td>0</td>\n",
              "    </tr>\n",
              "    <tr>\n",
              "      <th>1</th>\n",
              "      <td>217</td>\n",
              "      <td>is reading manga  http://plurk.com/p/mzp1e</td>\n",
              "      <td>0</td>\n",
              "    </tr>\n",
              "    <tr>\n",
              "      <th>2</th>\n",
              "      <td>220</td>\n",
              "      <td>@comeagainjen http://twitpic.com/2y2lx - http:...</td>\n",
              "      <td>0</td>\n",
              "    </tr>\n",
              "    <tr>\n",
              "      <th>3</th>\n",
              "      <td>288</td>\n",
              "      <td>@lapcat Need to send 'em to my accountant tomo...</td>\n",
              "      <td>0</td>\n",
              "    </tr>\n",
              "    <tr>\n",
              "      <th>4</th>\n",
              "      <td>540</td>\n",
              "      <td>ADD ME ON MYSPACE!!!  myspace.com/LookThunder</td>\n",
              "      <td>0</td>\n",
              "    </tr>\n",
              "  </tbody>\n",
              "</table>\n",
              "</div>\n",
              "      <button class=\"colab-df-convert\" onclick=\"convertToInteractive('df-611c472a-54b3-4f69-9c58-da34fc965eef')\"\n",
              "              title=\"Convert this dataframe to an interactive table.\"\n",
              "              style=\"display:none;\">\n",
              "        \n",
              "  <svg xmlns=\"http://www.w3.org/2000/svg\" height=\"24px\"viewBox=\"0 0 24 24\"\n",
              "       width=\"24px\">\n",
              "    <path d=\"M0 0h24v24H0V0z\" fill=\"none\"/>\n",
              "    <path d=\"M18.56 5.44l.94 2.06.94-2.06 2.06-.94-2.06-.94-.94-2.06-.94 2.06-2.06.94zm-11 1L8.5 8.5l.94-2.06 2.06-.94-2.06-.94L8.5 2.5l-.94 2.06-2.06.94zm10 10l.94 2.06.94-2.06 2.06-.94-2.06-.94-.94-2.06-.94 2.06-2.06.94z\"/><path d=\"M17.41 7.96l-1.37-1.37c-.4-.4-.92-.59-1.43-.59-.52 0-1.04.2-1.43.59L10.3 9.45l-7.72 7.72c-.78.78-.78 2.05 0 2.83L4 21.41c.39.39.9.59 1.41.59.51 0 1.02-.2 1.41-.59l7.78-7.78 2.81-2.81c.8-.78.8-2.07 0-2.86zM5.41 20L4 18.59l7.72-7.72 1.47 1.35L5.41 20z\"/>\n",
              "  </svg>\n",
              "      </button>\n",
              "      \n",
              "  <style>\n",
              "    .colab-df-container {\n",
              "      display:flex;\n",
              "      flex-wrap:wrap;\n",
              "      gap: 12px;\n",
              "    }\n",
              "\n",
              "    .colab-df-convert {\n",
              "      background-color: #E8F0FE;\n",
              "      border: none;\n",
              "      border-radius: 50%;\n",
              "      cursor: pointer;\n",
              "      display: none;\n",
              "      fill: #1967D2;\n",
              "      height: 32px;\n",
              "      padding: 0 0 0 0;\n",
              "      width: 32px;\n",
              "    }\n",
              "\n",
              "    .colab-df-convert:hover {\n",
              "      background-color: #E2EBFA;\n",
              "      box-shadow: 0px 1px 2px rgba(60, 64, 67, 0.3), 0px 1px 3px 1px rgba(60, 64, 67, 0.15);\n",
              "      fill: #174EA6;\n",
              "    }\n",
              "\n",
              "    [theme=dark] .colab-df-convert {\n",
              "      background-color: #3B4455;\n",
              "      fill: #D2E3FC;\n",
              "    }\n",
              "\n",
              "    [theme=dark] .colab-df-convert:hover {\n",
              "      background-color: #434B5C;\n",
              "      box-shadow: 0px 1px 3px 1px rgba(0, 0, 0, 0.15);\n",
              "      filter: drop-shadow(0px 1px 2px rgba(0, 0, 0, 0.3));\n",
              "      fill: #FFFFFF;\n",
              "    }\n",
              "  </style>\n",
              "\n",
              "      <script>\n",
              "        const buttonEl =\n",
              "          document.querySelector('#df-611c472a-54b3-4f69-9c58-da34fc965eef button.colab-df-convert');\n",
              "        buttonEl.style.display =\n",
              "          google.colab.kernel.accessAllowed ? 'block' : 'none';\n",
              "\n",
              "        async function convertToInteractive(key) {\n",
              "          const element = document.querySelector('#df-611c472a-54b3-4f69-9c58-da34fc965eef');\n",
              "          const dataTable =\n",
              "            await google.colab.kernel.invokeFunction('convertToInteractive',\n",
              "                                                     [key], {});\n",
              "          if (!dataTable) return;\n",
              "\n",
              "          const docLinkHtml = 'Like what you see? Visit the ' +\n",
              "            '<a target=\"_blank\" href=https://colab.research.google.com/notebooks/data_table.ipynb>data table notebook</a>'\n",
              "            + ' to learn more about interactive tables.';\n",
              "          element.innerHTML = '';\n",
              "          dataTable['output_type'] = 'display_data';\n",
              "          await google.colab.output.renderOutput(dataTable, element);\n",
              "          const docLink = document.createElement('div');\n",
              "          docLink.innerHTML = docLinkHtml;\n",
              "          element.appendChild(docLink);\n",
              "        }\n",
              "      </script>\n",
              "    </div>\n",
              "  </div>\n",
              "  "
            ]
          },
          "metadata": {},
          "execution_count": 3
        }
      ]
    },
    {
      "cell_type": "code",
      "source": [
        "df.rename(columns = {'message to examine':'message', 'label (depression result)':'label'}, inplace = True)"
      ],
      "metadata": {
        "id": "AKSdybv2mZpa"
      },
      "execution_count": 4,
      "outputs": []
    },
    {
      "cell_type": "code",
      "source": [
        "df.shape"
      ],
      "metadata": {
        "colab": {
          "base_uri": "https://localhost:8080/"
        },
        "id": "tcXLU4GTmbyL",
        "outputId": "c94d7744-9357-444c-9757-064968204ce8"
      },
      "execution_count": 5,
      "outputs": [
        {
          "output_type": "execute_result",
          "data": {
            "text/plain": [
              "(10314, 3)"
            ]
          },
          "metadata": {},
          "execution_count": 5
        }
      ]
    },
    {
      "cell_type": "code",
      "source": [
        "df.isnull().sum()"
      ],
      "metadata": {
        "colab": {
          "base_uri": "https://localhost:8080/"
        },
        "id": "TS-CGrxtmd0V",
        "outputId": "0e97ccac-b828-4aa4-ee84-d83499ae56d2"
      },
      "execution_count": 6,
      "outputs": [
        {
          "output_type": "execute_result",
          "data": {
            "text/plain": [
              "Index      0\n",
              "message    0\n",
              "label      0\n",
              "dtype: int64"
            ]
          },
          "metadata": {},
          "execution_count": 6
        }
      ]
    },
    {
      "cell_type": "code",
      "source": [
        "df.label.value_counts()"
      ],
      "metadata": {
        "colab": {
          "base_uri": "https://localhost:8080/"
        },
        "id": "YWwlep_wmfdv",
        "outputId": "a7355d6a-9dbd-4f6f-a872-3cbe7b869e2b"
      },
      "execution_count": 7,
      "outputs": [
        {
          "output_type": "execute_result",
          "data": {
            "text/plain": [
              "0    8000\n",
              "1    2314\n",
              "Name: label, dtype: int64"
            ]
          },
          "metadata": {},
          "execution_count": 7
        }
      ]
    },
    {
      "cell_type": "code",
      "source": [
        "2314/(8000+2314)"
      ],
      "metadata": {
        "colab": {
          "base_uri": "https://localhost:8080/"
        },
        "id": "vZYVpRURT7g4",
        "outputId": "c7c4bc3f-a5f8-43e6-e20f-36652098e8d3"
      },
      "execution_count": 8,
      "outputs": [
        {
          "output_type": "execute_result",
          "data": {
            "text/plain": [
              "0.2243552452976537"
            ]
          },
          "metadata": {},
          "execution_count": 8
        }
      ]
    },
    {
      "cell_type": "code",
      "source": [
        "# data class seems imbalanced"
      ],
      "metadata": {
        "id": "Uw__5I81M44K"
      },
      "execution_count": 9,
      "outputs": []
    },
    {
      "cell_type": "code",
      "source": [
        "df['word_count']=df['message'].apply(lambda x: len(x.split()))"
      ],
      "metadata": {
        "id": "doHPFhRQmkNv"
      },
      "execution_count": 10,
      "outputs": []
    },
    {
      "cell_type": "code",
      "source": [
        "plt.figure(figsize=(10,8))\n",
        "df[df.label==0].word_count.plot(bins=10,kind='hist',color='red',label='Negetive sentiments')\n",
        "df[df.label==1].word_count.plot(bins=10,kind='hist',color='blue',label='Positive sentiments')\n",
        "plt.legend()"
      ],
      "metadata": {
        "colab": {
          "base_uri": "https://localhost:8080/",
          "height": 500
        },
        "id": "9k7Km--wmm5q",
        "outputId": "0920500e-3d4a-4f07-d2f6-6eb082b1d21a"
      },
      "execution_count": 11,
      "outputs": [
        {
          "output_type": "execute_result",
          "data": {
            "text/plain": [
              "<matplotlib.legend.Legend at 0x7fb95b8ec790>"
            ]
          },
          "metadata": {},
          "execution_count": 11
        },
        {
          "output_type": "display_data",
          "data": {
            "text/plain": [
              "<Figure size 720x576 with 1 Axes>"
            ],
            "image/png": "[encoded data removed]"
          },
          "metadata": {
            "needs_background": "light"
          }
        }
      ]
    },
    {
      "cell_type": "code",
      "source": [
        "# Checking out maximum and minimum of tweet lenght"
      ],
      "metadata": {
        "id": "Aa1nWzJZmoq8"
      },
      "execution_count": 12,
      "outputs": []
    },
    {
      "cell_type": "code",
      "source": [
        "print(df['word_count'].max())\n",
        "print(df['word_count'].min())"
      ],
      "metadata": {
        "colab": {
          "base_uri": "https://localhost:8080/"
        },
        "id": "T2eNymMJmrYP",
        "outputId": "987110a6-d739-4594-d200-4f36c5ffcf13"
      },
      "execution_count": 13,
      "outputs": [
        {
          "output_type": "stream",
          "name": "stdout",
          "text": [
            "92\n",
            "1\n"
          ]
        }
      ]
    },
    {
      "cell_type": "code",
      "source": [
        "print(\"Minumum length of tweet: \\n\",df['message'][df.word_count==1][:5])\n",
        "print(\"Miximum word present in tweet: \\n\",df['message'][df.word_count==92])\n",
        "\n"
      ],
      "metadata": {
        "colab": {
          "base_uri": "https://localhost:8080/"
        },
        "id": "MbgojHbHm5VG",
        "outputId": "5b44d015-ab70-4026-e83d-b7b5d8aa9075"
      },
      "execution_count": 14,
      "outputs": [
        {
          "output_type": "stream",
          "name": "stdout",
          "text": [
            "Minumum length of tweet: \n",
            " 156       @RealWorldMom \n",
            "175             around. \n",
            "263    @JonathanRKnight \n",
            "809          @llisalang \n",
            "921           ferngully \n",
            "Name: message, dtype: object\n",
            "Miximum word present in tweet: \n",
            " 9410    @doucefeline @WhatASaviour7 @alisawoodard6 @SW...\n",
            "Name: message, dtype: object\n"
          ]
        }
      ]
    },
    {
      "cell_type": "code",
      "source": [
        "data=df.drop(['Index','label','word_count'],axis=1)\n",
        "data.head()"
      ],
      "metadata": {
        "colab": {
          "base_uri": "https://localhost:8080/",
          "height": 206
        },
        "id": "7don1d0gm99k",
        "outputId": "6cdc7590-1dca-4c28-ec0d-716b4f19491b"
      },
      "execution_count": 15,
      "outputs": [
        {
          "output_type": "execute_result",
          "data": {
            "text/plain": [
              "                                             message\n",
              "0  just had a real good moment. i missssssssss hi...\n",
              "1         is reading manga  http://plurk.com/p/mzp1e\n",
              "2  @comeagainjen http://twitpic.com/2y2lx - http:...\n",
              "3  @lapcat Need to send 'em to my accountant tomo...\n",
              "4      ADD ME ON MYSPACE!!!  myspace.com/LookThunder"
            ],
            "text/html": [
              "\n",
              "  <div id=\"df-ec49b853-57b8-4ec6-9a37-c0cf6da60804\">\n",
              "    <div class=\"colab-df-container\">\n",
              "      <div>\n",
              "<style scoped>\n",
              "    .dataframe tbody tr th:only-of-type {\n",
              "        vertical-align: middle;\n",
              "    }\n",
              "\n",
              "    .dataframe tbody tr th {\n",
              "        vertical-align: top;\n",
              "    }\n",
              "\n",
              "    .dataframe thead th {\n",
              "        text-align: right;\n",
              "    }\n",
              "</style>\n",
              "<table border=\"1\" class=\"dataframe\">\n",
              "  <thead>\n",
              "    <tr style=\"text-align: right;\">\n",
              "      <th></th>\n",
              "      <th>message</th>\n",
              "    </tr>\n",
              "  </thead>\n",
              "  <tbody>\n",
              "    <tr>\n",
              "      <th>0</th>\n",
              "      <td>just had a real good moment. i missssssssss hi...</td>\n",
              "    </tr>\n",
              "    <tr>\n",
              "      <th>1</th>\n",
              "      <td>is reading manga  http://plurk.com/p/mzp1e</td>\n",
              "    </tr>\n",
              "    <tr>\n",
              "      <th>2</th>\n",
              "      <td>@comeagainjen http://twitpic.com/2y2lx - http:...</td>\n",
              "    </tr>\n",
              "    <tr>\n",
              "      <th>3</th>\n",
              "      <td>@lapcat Need to send 'em to my accountant tomo...</td>\n",
              "    </tr>\n",
              "    <tr>\n",
              "      <th>4</th>\n",
              "      <td>ADD ME ON MYSPACE!!!  myspace.com/LookThunder</td>\n",
              "    </tr>\n",
              "  </tbody>\n",
              "</table>\n",
              "</div>\n",
              "      <button class=\"colab-df-convert\" onclick=\"convertToInteractive('df-ec49b853-57b8-4ec6-9a37-c0cf6da60804')\"\n",
              "              title=\"Convert this dataframe to an interactive table.\"\n",
              "              style=\"display:none;\">\n",
              "        \n",
              "  <svg xmlns=\"http://www.w3.org/2000/svg\" height=\"24px\"viewBox=\"0 0 24 24\"\n",
              "       width=\"24px\">\n",
              "    <path d=\"M0 0h24v24H0V0z\" fill=\"none\"/>\n",
              "    <path d=\"M18.56 5.44l.94 2.06.94-2.06 2.06-.94-2.06-.94-.94-2.06-.94 2.06-2.06.94zm-11 1L8.5 8.5l.94-2.06 2.06-.94-2.06-.94L8.5 2.5l-.94 2.06-2.06.94zm10 10l.94 2.06.94-2.06 2.06-.94-2.06-.94-.94-2.06-.94 2.06-2.06.94z\"/><path d=\"M17.41 7.96l-1.37-1.37c-.4-.4-.92-.59-1.43-.59-.52 0-1.04.2-1.43.59L10.3 9.45l-7.72 7.72c-.78.78-.78 2.05 0 2.83L4 21.41c.39.39.9.59 1.41.59.51 0 1.02-.2 1.41-.59l7.78-7.78 2.81-2.81c.8-.78.8-2.07 0-2.86zM5.41 20L4 18.59l7.72-7.72 1.47 1.35L5.41 20z\"/>\n",
              "  </svg>\n",
              "      </button>\n",
              "      \n",
              "  <style>\n",
              "    .colab-df-container {\n",
              "      display:flex;\n",
              "      flex-wrap:wrap;\n",
              "      gap: 12px;\n",
              "    }\n",
              "\n",
              "    .colab-df-convert {\n",
              "      background-color: #E8F0FE;\n",
              "      border: none;\n",
              "      border-radius: 50%;\n",
              "      cursor: pointer;\n",
              "      display: none;\n",
              "      fill: #1967D2;\n",
              "      height: 32px;\n",
              "      padding: 0 0 0 0;\n",
              "      width: 32px;\n",
              "    }\n",
              "\n",
              "    .colab-df-convert:hover {\n",
              "      background-color: #E2EBFA;\n",
              "      box-shadow: 0px 1px 2px rgba(60, 64, 67, 0.3), 0px 1px 3px 1px rgba(60, 64, 67, 0.15);\n",
              "      fill: #174EA6;\n",
              "    }\n",
              "\n",
              "    [theme=dark] .colab-df-convert {\n",
              "      background-color: #3B4455;\n",
              "      fill: #D2E3FC;\n",
              "    }\n",
              "\n",
              "    [theme=dark] .colab-df-convert:hover {\n",
              "      background-color: #434B5C;\n",
              "      box-shadow: 0px 1px 3px 1px rgba(0, 0, 0, 0.15);\n",
              "      filter: drop-shadow(0px 1px 2px rgba(0, 0, 0, 0.3));\n",
              "      fill: #FFFFFF;\n",
              "    }\n",
              "  </style>\n",
              "\n",
              "      <script>\n",
              "        const buttonEl =\n",
              "          document.querySelector('#df-ec49b853-57b8-4ec6-9a37-c0cf6da60804 button.colab-df-convert');\n",
              "        buttonEl.style.display =\n",
              "          google.colab.kernel.accessAllowed ? 'block' : 'none';\n",
              "\n",
              "        async function convertToInteractive(key) {\n",
              "          const element = document.querySelector('#df-ec49b853-57b8-4ec6-9a37-c0cf6da60804');\n",
              "          const dataTable =\n",
              "            await google.colab.kernel.invokeFunction('convertToInteractive',\n",
              "                                                     [key], {});\n",
              "          if (!dataTable) return;\n",
              "\n",
              "          const docLinkHtml = 'Like what you see? Visit the ' +\n",
              "            '<a target=\"_blank\" href=https://colab.research.google.com/notebooks/data_table.ipynb>data table notebook</a>'\n",
              "            + ' to learn more about interactive tables.';\n",
              "          element.innerHTML = '';\n",
              "          dataTable['output_type'] = 'display_data';\n",
              "          await google.colab.output.renderOutput(dataTable, element);\n",
              "          const docLink = document.createElement('div');\n",
              "          docLink.innerHTML = docLinkHtml;\n",
              "          element.appendChild(docLink);\n",
              "        }\n",
              "      </script>\n",
              "    </div>\n",
              "  </div>\n",
              "  "
            ]
          },
          "metadata": {},
          "execution_count": 15
        }
      ]
    },
    {
      "cell_type": "code",
      "source": [
        "label=df.label\n",
        "label.head()"
      ],
      "metadata": {
        "colab": {
          "base_uri": "https://localhost:8080/"
        },
        "id": "Ww8rOuF4oScH",
        "outputId": "89c9fb8a-bdcc-497f-992a-25115a17ce2a"
      },
      "execution_count": 16,
      "outputs": [
        {
          "output_type": "execute_result",
          "data": {
            "text/plain": [
              "0    0\n",
              "1    0\n",
              "2    0\n",
              "3    0\n",
              "4    0\n",
              "Name: label, dtype: int64"
            ]
          },
          "metadata": {},
          "execution_count": 16
        }
      ]
    },
    {
      "cell_type": "code",
      "source": [
        "from tensorflow.keras.layers import Embedding,LSTM,Dense\n",
        "from tensorflow.keras.preprocessing.sequence import pad_sequences\n",
        "from tensorflow.keras.models import Sequential\n",
        "from tensorflow.keras.preprocessing.text import one_hot "
      ],
      "metadata": {
        "id": "QCLF34Z9oYhm"
      },
      "execution_count": 17,
      "outputs": []
    },
    {
      "cell_type": "code",
      "source": [
        "# defining maximum vocabulary size\n",
        "# data preprocessing "
      ],
      "metadata": {
        "id": "D4HNZuiVX3Ex"
      },
      "execution_count": 18,
      "outputs": []
    },
    {
      "cell_type": "code",
      "source": [
        "voc_size=5000"
      ],
      "metadata": {
        "id": "DRcJuIOtobTp"
      },
      "execution_count": 19,
      "outputs": []
    },
    {
      "cell_type": "code",
      "source": [
        "import nltk\n",
        "import re\n",
        "from nltk.corpus import stopwords"
      ],
      "metadata": {
        "id": "eTlNPEZzodc6"
      },
      "execution_count": 20,
      "outputs": []
    },
    {
      "cell_type": "code",
      "source": [
        "nltk.download('stopwords')"
      ],
      "metadata": {
        "colab": {
          "base_uri": "https://localhost:8080/"
        },
        "id": "kHMb0Qz1ohd8",
        "outputId": "53376078-d229-44eb-ab1e-949972c1be97"
      },
      "execution_count": 21,
      "outputs": [
        {
          "output_type": "stream",
          "name": "stderr",
          "text": [
            "[nltk_data] Downloading package stopwords to /root/nltk_data...\n",
            "[nltk_data]   Package stopwords is already up-to-date!\n"
          ]
        },
        {
          "output_type": "execute_result",
          "data": {
            "text/plain": [
              "True"
            ]
          },
          "metadata": {},
          "execution_count": 21
        }
      ]
    },
    {
      "cell_type": "code",
      "source": [
        "nltk.download('wordnet')"
      ],
      "metadata": {
        "colab": {
          "base_uri": "https://localhost:8080/"
        },
        "id": "k6AkwZ_bolKt",
        "outputId": "047ef164-7fd5-4a45-ad84-6f7def218824"
      },
      "execution_count": 22,
      "outputs": [
        {
          "output_type": "stream",
          "name": "stderr",
          "text": [
            "[nltk_data] Downloading package wordnet to /root/nltk_data...\n",
            "[nltk_data]   Package wordnet is already up-to-date!\n"
          ]
        },
        {
          "output_type": "execute_result",
          "data": {
            "text/plain": [
              "True"
            ]
          },
          "metadata": {},
          "execution_count": 22
        }
      ]
    },
    {
      "cell_type": "code",
      "source": [
        "from nltk.stem import PorterStemmer\n",
        "ps = PorterStemmer()\n",
        "corpus=[]\n",
        "for i in range(0,len(data)):\n",
        "  review=re.sub('[^a-zA-Z]',' ',data['message'][i])\n",
        "  review=review.lower()\n",
        "  review=review.split()\n",
        "\n",
        "  review=[ps.stem(word) for word in review if not word in stopwords.words('english')]\n",
        "  review=' '.join(review)\n",
        "  corpus.append(review)"
      ],
      "metadata": {
        "id": "ORjC5bW3onsr"
      },
      "execution_count": 23,
      "outputs": []
    },
    {
      "cell_type": "code",
      "source": [
        "corpus"
      ],
      "metadata": {
        "colab": {
          "base_uri": "https://localhost:8080/"
        },
        "id": "aFCvDm-roqqj",
        "outputId": "49cb2c55-035a-4efc-e3f7-eb37b21c9438"
      },
      "execution_count": 24,
      "outputs": [
        {
          "output_type": "execute_result",
          "data": {
            "text/plain": [
              "['real good moment missssssssss much',\n",
              " 'read manga http plurk com p mzp e',\n",
              " 'comeagainjen http twitpic com lx http www youtub com watch v zogfqvh',\n",
              " 'lapcat need send em account tomorrow oddli even refer tax support evid though',\n",
              " 'add myspac myspac com lookthund',\n",
              " 'sleepi good time tonight though',\n",
              " 'silkcharm nbn someon alreadi said fiber home mean least regular',\n",
              " 'c possibl today nice',\n",
              " 'nite twittervil workout ciao',\n",
              " 'danann night darlin sweet dream',\n",
              " 'good morn everybodi',\n",
              " 'final creat wordpress blog alreadi blog seattl coffe commun http tinyurl com c uufd',\n",
              " 'kisha cnt get u til get frm u rememb ur top',\n",
              " 'nicolerichi ye rememb band awesom pleas repli',\n",
              " 'realli love reflect shadow',\n",
              " 'blueaero ooo fantasi like fantasi novel check',\n",
              " 'rokchic prob sell noth blog http snedwan com get listen band itun',\n",
              " 'shipovalov quot nokla connect peopl quot',\n",
              " 'stay late start earli good thing like job',\n",
              " 'kal penn read new job congratul fantast',\n",
              " 'abl sleep think watch ugli betti onlin',\n",
              " 'woo thank ron steev follow yeow folowerssss haha p wanna got ellen show',\n",
              " 'aidenchan yeah sure sister take extra gd care',\n",
              " 'sian mous yay duck want anyth watch duck lol',\n",
              " 'smaaack ass hahhahahaa make laugh oooooh sleeeep ahha g niit',\n",
              " 'woo late haha goodnight twittervers xoxo',\n",
              " 'look forward meet pastor kong jw later',\n",
              " 'doubleickey u know minichocol shape liquor bottl liqour insid em',\n",
              " 'test see twitter work thro facebook',\n",
              " 'night babi got vh thing check pic http twitpic com u http twitpic com xzl http twitpic com',\n",
              " 'got magic number thank support',\n",
              " 'cold man love weather',\n",
              " 'ok guy offici launch new languag swedish russian realli fun ask www surveypir com',\n",
              " 'ladi bought bracelet pictur twitter page background still wear week later taken like',\n",
              " 'dwanb ate filet american morn cant see pic mobil twitter',\n",
              " 'book hair appoint',\n",
              " 'report english b modern histori geographi b math b b account ipt',\n",
              " 'dtphulp lol know sound voic great need euh fine tune',\n",
              " 'cupcak heaven http ilovecupcak co za check shop nice design weird contact info popup tho',\n",
              " 'bought mh bundl creat task call quot mario quot quot star war quot quot hit list quot make sure sound complet task',\n",
              " 'someon turn shower pleas',\n",
              " 'frumousm yeah mani us angri feeter tim good lol good go havent post',\n",
              " 'carli love new song choru real nice catchi gud job track record jordan',\n",
              " 'tayjasp alrit thanxx',\n",
              " 'grapevin look forward new websit',\n",
              " 'modejunki awww sweet still cuti',\n",
              " 'rowanberri ohhh send load posit vibe way',\n",
              " 'tcouto cool stuff',\n",
              " 'celebr minor bank triumph bank b got one admit wrong',\n",
              " 'cosmicgirli think everyth cross turn babi turn',\n",
              " 'emmalight forgotten need sometim',\n",
              " 'tommcfli eclips awesom better new moon',\n",
              " 'tire today drunk husband roll bunch friend anoth drink noisi lot',\n",
              " 'ingoramm well definitelli worth tri notic differ favorit neither',\n",
              " 'mileycyru good morn miley',\n",
              " 'finish first shift door open alreadi',\n",
              " 'noth quit like find good amp set solid state amp',\n",
              " 'gee lo paid made redund two week ago need job big time',\n",
              " 'watch steam train go back forth ravenglass sunni',\n",
              " 'nat ski bout steppenwolf magic carpet ride',\n",
              " 'shannanstedman haha maxxi beat whippet',\n",
              " 'yaaaaay jac train sorcer level mean pwn soon',\n",
              " 'doggi cute',\n",
              " 'nicharri tell simon quot use tuk fm quot say hi',\n",
              " 'wildstarb happi rezday captain quit parti',\n",
              " 'car cost arm leg cute forgiv',\n",
              " 'tweet cracker barrel',\n",
              " 'ami said phillip schofield schofe legend ami need follow page',\n",
              " 'check new techno record juno',\n",
              " 'rln funni',\n",
              " 'go make duti tomorrow goodnight',\n",
              " 'starrgazr ye mam noth like start day good song danc move',\n",
              " 'go paint nail get foood',\n",
              " 'athen',\n",
              " 'pjakob someon would figur access mp without actual pay',\n",
              " 'tootholog oh crap sure dare charg custom care india though',\n",
              " 'handmad good moment xxx',\n",
              " 'imasadgiraff browni good time day',\n",
              " 'check myspac look band differ state add friend myspac love music',\n",
              " 'happi birthday grandpa cat still love',\n",
              " 'fiction nose clog use plunger',\n",
              " 'inqu huy matulog ka na hahah cbroom done yet take shape',\n",
              " 'adamseo come better time',\n",
              " 'day school left week im beyond excit saturday',\n",
              " 'simpl girl oatmeal make realli happi morn bloom wisteria',\n",
              " 'beverleyknight fine thank keep beauti alway',\n",
              " 'aplusk that beauti love thing say',\n",
              " 'dougiemcfli chang name michel',\n",
              " 'starboy yay well dont feel spesh',\n",
              " 'anoth year older today least sunni',\n",
              " 'kduros yep fought back well think turn decis moment win leagu though',\n",
              " 'louiss thank live florida sinc miss snow',\n",
              " 'goin abroaaaaad tomrow dubaiiii wait long twitter room prodigi sorri peep',\n",
              " 'melindsey lol shame',\n",
              " 'urbanfli mean c escher painter dj',\n",
              " 'wish school like revis session class non uniform abl laugh learn time',\n",
              " 'nothin like good book spring clean http www mrsdlight com food storag pantri clean tip html',\n",
              " 'kerryn thank appreci feedback',\n",
              " 'listen music',\n",
              " 'mileycyru hi mileeey friend wait come spain excit love song great',\n",
              " 'robotsarecool anoth big tabl touch screen woot http www tuaw com illus lab goe big screen',\n",
              " 'nikhilnarayanan mistaken uncl pm angamali antwic gone case shavam',\n",
              " 'jptoto caus gem',\n",
              " 'offici result came pr seat wherea bn seat congratul pr',\n",
              " 'glove thx advic wait petosin kick',\n",
              " 'im play hooki work today voic realli gone tho im home today',\n",
              " 'love spontan road trip',\n",
              " 'love tweet day today work must get done tweet god bless everyon tcot',\n",
              " 'pepperfir friday yet babi tweepletuesday followfriday',\n",
              " 'take advantag sunshin go take dog beach walk work day yipeeee',\n",
              " 'still employ troubl stuff sweet',\n",
              " 'let see well hour sleep hold today predict massiv slowdown funni',\n",
              " 'came back see againn gooddd lt',\n",
              " 'superhooti mayb mayb',\n",
              " 'kimkardashian sooo watch disast movi absolutli hilari ur idol',\n",
              " 'kvanduyn happi mandi safe trip never va beach enjoy',\n",
              " 'jmacgirl sign extra credit',\n",
              " 'fall asleep goodnight everyon',\n",
              " 'hwork live twitter api land long call oauth button http bit ly yrh',\n",
              " 'mate gunna chekk movi next week realli want see boat rock',\n",
              " 'bananaanna mikequad total agre anna',\n",
              " 'worde follow us contact',\n",
              " 'love good book',\n",
              " 'sister anoth mister kayla',\n",
              " 'sun sky light way time promis willll',\n",
              " 'betti sound like pretti good night',\n",
              " 'accord roster hockey season bad hah',\n",
              " 'happi gilmor',\n",
              " 'nick carter lmao guess friday bad',\n",
              " 'waynenh wish follow could follow wayn',\n",
              " 'time shower french toast togeth',\n",
              " 'myucan daamnn im even go ask bore come hk',\n",
              " 'today thunder louisvil start derbi festiv love festiv even go',\n",
              " 'good mornin folk think make coupl home made egg mcmuffin go excel coffe clear sunni mornin',\n",
              " 'think kellan lutz hot smoke',\n",
              " 'okay torn apart work fresh coffe amp peanut butter toast tri put back togeth less crap time',\n",
              " 'relax guest come hope everyon like food know morton made plain rice',\n",
              " 'surfislikeaboss hair red da light blond black jamesissexi hey hotti firesti da girl',\n",
              " 'today day',\n",
              " 'shop queen st sun yesterday like last time need find sf equival experi',\n",
              " 'backgammon birthday meal friend later',\n",
              " 'donniewahlberg holla chill way buy mapl syrup mmm hope great morn',\n",
              " 'mabelkatz look ok bit byte clean ho oponopono',\n",
              " 'azcameron seriou busi',\n",
              " 'lllllois made na twitter haha upload photo updatee',\n",
              " 'linacyru heyi aww thank much hun rock xoxo',\n",
              " 'heidimontag heidiii love new singl blackout amaz think dress amazinggg im jealou haha pleas answer someth',\n",
              " 'nubianeagl tempt morn randomli woke fallen asleep saniti import',\n",
              " 'saidthewhal great photograph saw guy play westjet street parti short set awesom nonetheless',\n",
              " 'amandabyn realli like ur fan love ur movi especi man funni love lt',\n",
              " 'meday right back atchya hope great day',\n",
              " 'got showerrr myspac',\n",
              " 'gonna hang two favorit peopl http plurk com p ovm q',\n",
              " 'pipe call bigthang',\n",
              " 'theendtim lmao love good comedi',\n",
              " 'koldcasttv beautyboutiqu thank follow',\n",
              " 'realworldmom',\n",
              " 'twitter look miley cyru luv xo',\n",
              " 'kimkardashian hey kim im huge fan ur like role model realli hope actual meet u one day',\n",
              " 'go outsid',\n",
              " 'ddlovato oh demi sure knee slapper',\n",
              " 'alyssa',\n",
              " 'mystica hi luv sound like busi day hope went well',\n",
              " 'watch bradi bunch',\n",
              " 'go mall',\n",
              " 'mad tacrain kylielanejona complet mission without app good pretti',\n",
              " 'love sound break glass someth cathart',\n",
              " 'boulder creek gram',\n",
              " 'mebrowni love babi',\n",
              " 'gisher retweet person believ tweet effect weekli purg take care thing',\n",
              " 'ddlovato aw safe trip sweeti ill miss ox',\n",
              " 'lodurzj well pizza good',\n",
              " 'qotd quot hey still told guy stori english heritag fella lucki still aliv quot yawnerddn',\n",
              " 'still sit mayb go get air serious need help life almost clutter room',\n",
              " 'nakrissimo come could use nice decad parti',\n",
              " 'around',\n",
              " 'selenagomez love selena gomez beauti role model idol would happi repli',\n",
              " 'sassycat mommi',\n",
              " 'beer amp corn dog know weird combo santa monica pier',\n",
              " 'cloud hm take essay go well right perhap swap noth left lose lol',\n",
              " 'tweetup afterparti genji',\n",
              " 'back work twitt ya laterz',\n",
              " 'go church',\n",
              " 'teh joker yeah im done puke crown coke',\n",
              " 'oliverwalton know im normal il though il cool see happen world twitter',\n",
              " 'wife shop great mall milpita great price us dollar still reason low us',\n",
              " 'goi reedbox get movii',\n",
              " 'sadknob good thing p amp k day job',\n",
              " 'capecodgurl sorri spam troubl mash multisyllab word hate finger',\n",
              " 'statesboro fun see greenjacket augusta tonight',\n",
              " 'kelli fact know librari close lame',\n",
              " 'carysss oopssss forgot put ypur link begin haha case realis hope feel better',\n",
              " 'hi loriblu would suggest music electro project http bit ly kof free download amp fun cheer',\n",
              " 'elicab aw well u ever feel like fli con help u find place crash flew london buffi con btw',\n",
              " 'fabul hr run desert missi kaya run errand buffalo burger',\n",
              " 'go old school play super mario brother',\n",
              " 'head clear lake meet ken coast guar aux dinner hope road clear feel row',\n",
              " 'nicki power truli addict twitter link facebook twitter togeth updat one',\n",
              " 'michaeltyl way least rate though may even bake someth tonight know',\n",
              " 'kevinmiam thank take inspir today test',\n",
              " 'ladymelancon hey',\n",
              " 'thethirdrat oh good thankyou',\n",
              " 'im feel peac room clean ny hair cut think im readi nap',\n",
              " 'parti tonight j loung downtown la nice sunni day cali',\n",
              " 'theros guy come washington state total crush tacoma mall pleas lol',\n",
              " 'meghan xoxo seth mcfarlen god',\n",
              " 'vismajor glad guy wonder weekend',\n",
              " 'goodnight',\n",
              " 'ohhushmus sure bb',\n",
              " 'robynsyk half taught half actual learn viva la vida coldplay epic song',\n",
              " 'sugarhustl hehe u funni follow',\n",
              " 'watch nci grey hair make mark harmon attract think',\n",
              " 'readi patron hollywood phathead bday',\n",
              " 'laylakayleigh go skydiv ill let know next time im town',\n",
              " 'sambasel noth',\n",
              " 'talulakim yearbook closet look moro u still curiou um ki bjv go school exactli lol',\n",
              " 'new osalto blog post http tinyurl com dnbrw enjoy',\n",
              " 'blast across univers soundtrack',\n",
              " 'angmogirl oh worri gonna bad co sunday',\n",
              " 'starpadilla lol realli understand twitter quit yet got repli chipotl that cool',\n",
              " 'billi g cool peopl herebeforeoprah',\n",
              " 'fun night got see nevershoutnev andi holidayparad yay waitrewindthat took ihop yum',\n",
              " 'oliv long get readi come',\n",
              " 'britneyspear show last night amaz glad abl go',\n",
              " 'zenzi ye nyc way love hate http twitpic com ky',\n",
              " 'respr btw meant tell earlier sweet shirt wear afflic ufc shirt still wait cool card get auth wear',\n",
              " 'exoticqte u learn',\n",
              " 'skype endless fun',\n",
              " 'bali juli japan good time go japan anyon',\n",
              " 'britneyspear thank follow back',\n",
              " 'azthunderponi nice think get sleep enough energi enjoy horsey day',\n",
              " 'join sleep mon tue trackday njmp cbr rr http www njmotorsportspark com track html thunderbolt',\n",
              " 'dili thank huge hug',\n",
              " 'fureousangel recent matrix trilog sit tire awesom matrix trilog favorit sci fi film stori',\n",
              " 'audbal xo total agre beyonc stupid ali larter',\n",
              " 'jimalg forget parent often think offspr yo',\n",
              " 'sophiethecock wardrob often made chees eat',\n",
              " 'went wallyworld today awesom time get kewl easter basket nitelit comput',\n",
              " 'karencivil okay text say wake lol doesnt call pm time thx karen',\n",
              " 'sleep',\n",
              " 'watch idnhu vid',\n",
              " 'lizinhollywood wait',\n",
              " 'roxxinikki happi birthday take plenti pic video rememb later',\n",
              " 'good night tonight journey twit end tomorrow see ya tomorrow',\n",
              " 'oddessi congrat cooler happi birthday miss love',\n",
              " 'night twittz ju came home parti love hella tire allerg cat ew irrit',\n",
              " 'happi easter everyon',\n",
              " 'janinealino janin whoa dude hahah u realli put thing sent u sa fb ahhaha gee tnx janin',\n",
              " 'neildenni hehe yep love car boot never usual buy much heh',\n",
              " 'iamdiddi love diddi diddi live gt http bit ly ben',\n",
              " 'finish eat drink badg gt http twitpic com l lt look',\n",
              " 'readi go bed long day today good night',\n",
              " 'authorlisalogan oooh cool cool thank much inform',\n",
              " 'knighttim love',\n",
              " 'hannahvictoriu organis properli next time glad enjoy',\n",
              " 'tourscotland got must recharg',\n",
              " 'com myst blgspt thank',\n",
              " 'brob good stuff woop look forward tomorrow good day mr brian',\n",
              " 'irish morn irish btw',\n",
              " 'omg fix ipod',\n",
              " 'think read real blog www lisarcast blogspot com awesom like lol',\n",
              " 'congratul hate',\n",
              " 'ellaeslajirafa quot quot dai blackish green quot quot si silk quot quot silk blackish green color hope like',\n",
              " 'jonathanrknight',\n",
              " 'sweetpea back school univers moro realiti bite great break tho feel rejuvin',\n",
              " 'anishaflow thank feet leg ach comment eas pain',\n",
              " 'walkaboutkiwi l till wait u kekekek jk',\n",
              " 'anyon care comment last night hell kitchen well',\n",
              " 'build websit',\n",
              " 'watch wizard waverli place lol lol lol',\n",
              " 'sacc meet parent',\n",
              " 'kurioustrina awww thank call sexxxi thought forgot',\n",
              " 'stare stupidli front dad haha look like einstein',\n",
              " 'yet see wast dream deserv tear face see smile lt',\n",
              " 'good night twitter shit lol im fuuuucckedd hjdjjsiurjhjfhoipwplkjdhjdhhjhjdxdhueuhrjjjjjaaayyyyyyyyyyyi',\n",
              " 'borrow georg http blip fm kpxr',\n",
              " 'champagn breakfast bubbl went straight head tho lol',\n",
              " 'em c good tri well done paint way',\n",
              " 'tommcfli welcom home',\n",
              " 'todd saviour goodnight facebook',\n",
              " 'heard bootleg remix quot u seek ami quot kiss fm chicago',\n",
              " 'stefani go ahh vampir haha pale naman ah',\n",
              " 'road wife st triathlon updat hr call paramed',\n",
              " 'gerardway waight till new albam guy save life rock',\n",
              " 'feel like eat inch pizza yellowcab someon give haha',\n",
              " 'happi sunday get readi go church love god much u take care friend',\n",
              " 'mummi fitz take dad',\n",
              " 'fortheinsan tomorrow comput phone right',\n",
              " 'heath lololol love man ugg',\n",
              " 'ooooo chang',\n",
              " 'sammi read amaz sunshin love thank everyth bet feel love haha',\n",
              " 'night awesom slept watch kyle xy supernatur great',\n",
              " 'kimkardashian kim sorri sun burn lol hope feel good follow p l e e big fan lt',\n",
              " 'lunch dishwash back',\n",
              " 'jonasbroth http twitpic com br p omj look hot everi pic love new haircut',\n",
              " 'nonafairuz f u follow haha',\n",
              " 'jackfaulkn ah nevermind thought count also quit predict',\n",
              " 'last night good watch pearl harbour elli ben afleck amp whoever play best mate fit anth fell asleep lmao',\n",
              " 'rachaelphillip got beaten less get beaten without',\n",
              " 'love night',\n",
              " 'shani epa umm arrang would earliest day could get',\n",
              " 'gourmet make co one mango short use fresh mango season',\n",
              " 'home famili wet co rain got call dad bu co mum got worri wasnt home yet isnt sweet',\n",
              " 'madmagz hey hun great see u twitter hope u well x',\n",
              " 'skinkl yeah right',\n",
              " 'awak lovin arttm ff main h ever',\n",
              " 'hethfen great thank make music good today',\n",
              " 'way airport bye bitch',\n",
              " 'longest sound check ever long time type stage',\n",
              " 'rosevib well next time next time',\n",
              " 'anyway sarah prout wish best luck hope fun process cheer',\n",
              " 'ellemarten would love see write think great writer judg',\n",
              " 'kevinculli make sure take fun fundament',\n",
              " 'birthday final woohooooo',\n",
              " 'wonder capcom found necessari comic increas zangief bulk throughout street fighter game',\n",
              " 'super tire earli awak weekend king island later',\n",
              " 'gosh like sayig funni gosh haha meen word self',\n",
              " 'nick carter http twitpic com knrc okaaay that crazi luv erm blue omg',\n",
              " 'melraemorgan thank younger use hate bulli ginger love x',\n",
              " 'reddic miss star trek movi trekki cross dress confer go type lmbo',\n",
              " 'updat myspac accout love playlist gt http www myspac com samanthavillanueva',\n",
              " 'raecheybabi alreadi bounc back meltdown catch breath',\n",
              " 'ashsimpsonwentz hey',\n",
              " 'maron breakfast tomorrow',\n",
              " 'olivosartstudio oh thing similar time thank give name research',\n",
              " 'happi birthday',\n",
              " 'spaniard notic galician accent speak english find funni',\n",
              " 'etrangl http twitpic com l mv mysha amp myreen cute',\n",
              " 'peac sunni',\n",
              " 'go spend sunday famili',\n",
              " 'sofdlovesbsb lol bet station hear alot let hope singl red hot',\n",
              " 'mayb connect shite everyon beat',\n",
              " 'end nearli sight thank god got cheeki bit supernatur background',\n",
              " 'akamonti irish german spunk mix',\n",
              " 'mikeneumann hahaha know uptight thank handsom xoxoxoxoxoxoxox',\n",
              " 'look boat rental lake eufaula famili visit recommend',\n",
              " 'birthday',\n",
              " 'good tranc music gt redbul asot',\n",
              " 'first opi ds desir prepar tri',\n",
              " 'joeyjepson nice choic anyway thought mayb artist',\n",
              " 'ever sinc bought macbook send much email fuck easi becom spammer',\n",
              " 'erniehalt welcom back la congrat shout look forward resid hc',\n",
              " 'ryanhawiya yeah wouldnt care disney channel movi realli wanna horror thriller',\n",
              " 'gosh realis much film studi work pete set us meanwhil go watch motorcycl diari',\n",
              " 'ye littlest houseguest go home today alreadi turn great day',\n",
              " 'excit friend date today',\n",
              " 'watch nba playoff coverag favourit question jazz chanc laker everyon answer far',\n",
              " 'violetheverbos men annoy',\n",
              " 'spend day sister',\n",
              " 'watch footbal',\n",
              " 'hope everyon swell day',\n",
              " 'diana duncan need outsid littl get fix fine glanc window puter thing',\n",
              " 'diggin mah new sweater',\n",
              " 'jonasbroth ilovelovelovey',\n",
              " 'affirmationspot word may want one u finish',\n",
              " 'anyon give away iphon lol realli want one anyon gener',\n",
              " 'thank new follow appreci',\n",
              " 'badbadgirlx good luck everyth great around',\n",
              " 'jonthanjay awesom one cool game',\n",
              " 'get readi go bbq babi daddi hous wife kidscrazi huh peac rockin bob marley tee j',\n",
              " 'chrystinasay cant wait til come halifax juli babi got ticket',\n",
              " 'nicoledeb dont much clout would def give arugul thumb',\n",
              " 'gojeffrey sweet ride day green lizard lol',\n",
              " 'also inbetween class',\n",
              " 'deabush lol know mean',\n",
              " 'studi happi everyon xx',\n",
              " 'moonfry would son without doubt year old air breath amp love life',\n",
              " 'take lunch break great rehears',\n",
              " 'crowsond care tweet',\n",
              " 'great show night excit anoth',\n",
              " 'escrov lovee sb',\n",
              " 'wanna write review film amp music releas go amp leav place long time cours',\n",
              " 'kameshvari thought imogen heap dude first time heard sing low first album',\n",
              " 'jenna glass ahhah know want follow toooo',\n",
              " 'chang email address old navi newslett got anoth quot thank sign quot coupon awesom',\n",
              " 'fina cut da celli back n c dun texd den hit da frenz amp amp c wat iz fa dayi',\n",
              " 'tweet first time watch music channel',\n",
              " 'ddlovato think need know could go parti pretti amaz',\n",
              " 'locaoimh thank comfort intellig rhetor',\n",
              " 'well chuf surpris flynnmiest balloon present',\n",
              " 'alancarr ferrero rocher go straight hip enjoy',\n",
              " 'donniewahlberg happen celtic glad la girl utah go',\n",
              " 'merrymorgantown realli hope arriv rd th pari nd week back august th',\n",
              " 'glad pour bit',\n",
              " 'jemarsz paint one chadreev put finish touch',\n",
              " 'smck sorri hear root canal good luck fun soft food',\n",
              " 'selenagomez love movi zac awesomee',\n",
              " 'see car behav strang traffic worri siginutz drive',\n",
              " 'kpacek lmao aw amaz dont think could ever get use thing like hey that hah aw dna stuff',\n",
              " 'best movi ever think everyon justic go see',\n",
              " 'yasgar aww aaron nice hear see say need edit bit',\n",
              " 'ccab oh think figur cornucopia amaz like chocol cover one yyuumm',\n",
              " 'rawrstar well dollar hand tourney yesterday good',\n",
              " 'shit lame foreal lmao hey follow',\n",
              " 'kkd thx fb u like go http node fm manatmous amp get album mine free donat great time',\n",
              " 'derekinpa hahaha yeaaa that good one notebook',\n",
              " 'ashyeee giirl u better take care shit lol goodnight tweeti',\n",
              " 'brendonuriesay http twitpic com mr r bden new puppi cute love pic',\n",
              " 'morn tweet devil ot nd',\n",
              " 'imrananwar agre sir',\n",
              " 'need talk mynameiskaraaaa well life pretti good fun stalk',\n",
              " 'nice spring day bird tweet away',\n",
              " 'khale hater done soon enjoy last time hah',\n",
              " 'jestertun meh know polit correct color guy',\n",
              " 'keroski buy cheapest good thing that got mac mini',\n",
              " 'kinagranni davidchoimus think cover lucki jason mraz colbi caillat',\n",
              " 'asleep',\n",
              " 'ddlovato silli danc tryout friday find today made could wish luck amp pray pleas',\n",
              " 'glazou difficult extract wall garden hm blame w c everybodi els soft lock',\n",
              " 'updat profil hard fit char twitter malta',\n",
              " 'rsuenaga thank bring ticket today',\n",
              " 'jimmyfallon suppos gonna drink twitter anywho',\n",
              " 'justtidbit thank ye expect sure yet due ultrasound may grow fast',\n",
              " 'thewildjok alright follow hope follow back',\n",
              " 'remov expir offer weekend lot expect day today chri',\n",
              " 'bom dia twitvers',\n",
              " 'day hr min la flight',\n",
              " 'everi muscl bodi sore weight great damn middl ear problem whing whing haha',\n",
              " 'maisi loveeee',\n",
              " 'junderst ll hell imma wit caus class',\n",
              " 'coollik thought might show tardi ipod http twitpic com na',\n",
              " 'good morn everyon',\n",
              " 'shaundiviney sound hardcor',\n",
              " 'wegmus pleasee pick realli realli want pictur',\n",
              " 'weather like london bright sunni warm look like spring',\n",
              " 'mileycyru great movi keep good work',\n",
              " 'watch becom jane aww jame mcavoy irresist hawwttt',\n",
              " 'icharlott imo superstar hush feel realli btub long weekend',\n",
              " 'jamescaan let us weird busi see lol',\n",
              " 'jennylau aw cutest jersey send love especi tini dog',\n",
              " 'willryk tweet mean zero updat unaccept unless drink tea two eat tofu tutu',\n",
              " 'sznq heh fame celebr refug look narcissist',\n",
              " 'owlciti music help sleepless night',\n",
              " 'stay late help friend',\n",
              " 'gehan hehe erm googl thing pretti cool gonna next cover',\n",
              " 'monkeyspaw start accus us get',\n",
              " 'chunlum jpn koto longer amp string carri koto amp taiko part time job',\n",
              " 'sun shine',\n",
              " 'look use realtek ubuntu server lt',\n",
              " 'rmilana great thank thing end',\n",
              " 'gillyhttfan look forward see plan go back next year',\n",
              " 'set new macbook',\n",
              " 'good morn ppl hope get rid monday morn feel',\n",
              " 'redheadlori pcjbfan final broke got tix yesterday seein ya tampa fo sho wait til august',\n",
              " 'fourzoa yee oh love see anytim town',\n",
              " 'ewww wateri tea bag brew second peopl',\n",
              " 'chang name kinda match mi real name peopl know find better plu elliewoo fun say',\n",
              " 'lironst mmmm ate yesterday',\n",
              " 'eterna dreamer pick tri escal someon gonna leav easi',\n",
              " 'jazza uk hah broke',\n",
              " 'eeeehhh doubl scoop ice cream lunch today bliss x dessert bar promot rm',\n",
              " 'ppinheiro umm realli fond make isacosta event would make nervou',\n",
              " 'ricodaniel dont pop see england perfect opportun talk busi think',\n",
              " 'emmyos im repli',\n",
              " 'atlumschema rather nervou neighbour amount smoke produc obscur humbl natur littl bonfir',\n",
              " 'last thing know stay bless everyon',\n",
              " 'hope good news week',\n",
              " 'allegromous good morn',\n",
              " 'creativ thing speed experi jetblu though ankl hurt littl',\n",
              " 'good morn twitter critter',\n",
              " 'ugh soo tire get readi school jp soon',\n",
              " 'pgeorg prefer run nativ osx app',\n",
              " 'msn night say pretti good',\n",
              " 'ddlovato good luck uk releas yer album today got love',\n",
              " 'yofia cours left dd start cough etc poor dh',\n",
              " 'greatest th wed anniversari night tonight nhl playoff game watch wife romant',\n",
              " 'new twitter world think ob best use',\n",
              " 'mommysnack mean make blog invit one reader email mistak ask permiss read',\n",
              " 'http recipekey com r zykfx great veggi lasagna happi marathon monday boston folk',\n",
              " 'everyon go outsid take deep breath exhal well wonder enchant day namast',\n",
              " 'ninahayden rememb award elementari bear creek nice school recogn hard work',\n",
              " 'tommcfli take photo danni pl',\n",
              " 'kkozmic nh terribl solut report side cq daab better v write anyway',\n",
              " 'shannamaclasco sarahfredrick start step internship may th see',\n",
              " 'enjoy nice cool breez new desk fan',\n",
              " 'cescadoodl offic speaker headphon great great track got album home',\n",
              " 'ksprior post someth moron',\n",
              " 'atomiclola awesom glad like jealou',\n",
              " 'thing call twitter com quit like',\n",
              " 'tgn nope',\n",
              " 'lindajhutchinso happi birthday great day thank follow',\n",
              " 'visittampabay thank tweet itali sure',\n",
              " 'silixel put anoth way quot rememb uniqu like everybodi els quot',\n",
              " 'pursebuzz g mornin pursebuzz coffe',\n",
              " 'meesterbob chinchilla amaz loaf one kind',\n",
              " 'leav northpoint c g mtg head crabappl middl tornado shelter safe',\n",
              " 'woken love phone call boy great start monday feel great',\n",
              " 'kwidrick awesom great week',\n",
              " 'startaton non fat chai tea latt',\n",
              " 'mileycyru take care',\n",
              " 'understand gotta work haha chew gum feel like smoke dad big smoker know thing lol',\n",
              " 'walk home school look like loner funni day school today',\n",
              " 'shapingthepag yep stuf great littl app although admit use',\n",
              " 'nezua hey hey',\n",
              " 'theamazingchas sheepi sheepi sheepi sheepi wake',\n",
              " 'kencasey mayb new begin draw follow',\n",
              " 'right wll bore go busi mindless crap back inabit',\n",
              " 'brother rat yep one thing fantast support emphas enough keep get better better',\n",
              " 'caseymairex awww',\n",
              " 'sweet dream twitter',\n",
              " 'llmmcc gonna drive drill back',\n",
              " 'think enough tweak twitter home page might david sall',\n",
              " 'biggznm shop',\n",
              " 'shakenbak hour hai nick',\n",
              " 'craigsbeardwax goodnight',\n",
              " 'dizeman haha thank yo',\n",
              " 'start realli love run anoth mile',\n",
              " 'arkadyros wow gorgeou',\n",
              " 'dentist said teeth good bit clean polish good go',\n",
              " 'acidicic thank got work eventu',\n",
              " 'im gonna see raphael saadiq perform live tonight',\n",
              " 'donniewahlberg freakin miss guy want go everi concert cant fresno luv',\n",
              " 'boy back today yay',\n",
              " 'back later tonight bye beaut friend keep send love xoxo',\n",
              " 'back draw exercis sleep',\n",
              " 'bram hope like even fiction',\n",
              " 'joliesouri work add u u need go sleep sorri made u come great day morrow',\n",
              " 'doveypoo see doctor yet feel better soon',\n",
              " 'pretti good day today went parko jeremi smith',\n",
              " 'thevervekid thank much learn still pleas keep awesom work vibe cya friday',\n",
              " 'http twitpic com pd makapu u beach camera phone awesom captur blue',\n",
              " 'robin sharma http twitpic com ovto sell ferrari',\n",
              " 'rhyzom blog pretti lame stori unreleas bike seat tip awesom',\n",
              " 'roxonfox hey what good roxanna',\n",
              " 'merejam yeah could see pic might provid problem lolz prob less',\n",
              " 'got home bought hey monday heymondayonlin album today glad realli good',\n",
              " 'caffien',\n",
              " 'ebay n bought sumit sum special lol',\n",
              " 'nethrow love version cool',\n",
              " 'mensdomain glad hear sweeti rough day feel much better thank',\n",
              " 'briggysmal happi st high five dude',\n",
              " 'noth better guy love pluto back',\n",
              " 'adelablu still dev live beij',\n",
              " 'thought lt part make feel like still care still',\n",
              " 'amaz day today relax refresh much fun',\n",
              " 'help cultur shock sd join us hooter mv wednesday check support us drink merri',\n",
              " 'faf think drive dublin berlin someth',\n",
              " 'still figur',\n",
              " 'woollymitten congrat mate final away cow live flat raini grasland citi head',\n",
              " 'prernabhagra welcom twittervers prerna',\n",
              " 'paper hand make giggl',\n",
              " 'eliebel lol see gorgeou friend play would make holiday extra special see england',\n",
              " 'bergmann thursday follow back tweet',\n",
              " 'radio station anoth day',\n",
              " 'sassyshannon lazi want phone bb still novelti http myloc pq',\n",
              " 'susiewilson dramaprincess melbourn australia question',\n",
              " 'walk run eat laugh eat eat laugh sleep perfect even ahead',\n",
              " 'came home market market watch jash cheerdanc competit fun',\n",
              " 'luiz thank think aloud thrive healthi pressur right fight flight choos fight',\n",
              " 'survivor ummm like vote pweas',\n",
              " 'contempl goal art weekend ye know tuesday',\n",
              " 'cantu easili distract tho cantu look squirrel',\n",
              " 'gilltaylorphoto money issu also wep horrend insecur feel trip stafford come',\n",
              " 'kristenstewart hello kristen love work',\n",
              " 'luceyloub think fall love xxx ilovey',\n",
              " 'queen yinci ok cheer hope amp famili well',\n",
              " 'fare thee well tweetdom',\n",
              " 'dizzyfeet good witch bad witch glinda ugli',\n",
              " 'hey want say hi thank new follow got past day',\n",
              " 'manuelkuh thank made day',\n",
              " 'ano tong twitter',\n",
              " 'ehayen think fun talk radio big plan',\n",
              " 'mediahunt yeah least use twitter babi step reinvent',\n",
              " 'great earli morn workout get readi work',\n",
              " 'woo lesson cancel afternoon',\n",
              " 'gonna go eat lunch yummi veg soup crusti bread',\n",
              " 'yatpundit countri week',\n",
              " 'actual go delet wordpress minut anybodi use wordpress pleas tell',\n",
              " 'home quiz wooo',\n",
              " 'debbiedavi shape differ materi differ purpos',\n",
              " 'anoth busi day client amp prepe hear next week',\n",
              " 'mryat plan hold one ireland',\n",
              " 'good morn',\n",
              " 'bought ft long puzzl last supper mail wonder mani piec',\n",
              " 'stuck use verizon wireless card stupid internet apart work give go bed earli',\n",
              " 'lmpotter near bellingham waaaaaay northwest near soviet canada amp ussa border',\n",
              " 'cheesecak factori yay',\n",
              " 'wow need breakk prom tmrw',\n",
              " 'derunkah twitter woooooooo downtown enjoy last bit sunshin',\n",
              " 'glad graduat parti went well go bed see cousin prom',\n",
              " 'vote seanjohn com face futur im page least last page',\n",
              " 'omggggg later practic tire',\n",
              " 'search new rington im thinkin someth loud hilari know',\n",
              " 'hang best friend give makeov watch camp rock',\n",
              " 'krystalrene cheer look yummi fruiti drink respons',\n",
              " 'say hello nath',\n",
              " 'hamthrax glad kitti swine fine',\n",
              " 'tuck babi barley hang',\n",
              " 'stabotag share',\n",
              " 'murray think adork',\n",
              " 'fredwilson local pub call fli pig',\n",
              " 'websmith find interest movi sound like good one',\n",
              " 'way marbella spain see u guy later',\n",
              " 'mysteriousmysti hope u alotta fun see green day awesom band',\n",
              " 'clinterior happi weekend great father good morn yet side globe',\n",
              " 'son came home colleg quot definit graduat june right quot quot ye mom quot',\n",
              " 'guy go site http tinyurl com cbc r unlimit free rington',\n",
              " 'theresanoel okay keep look',\n",
              " 'gk minusalltop n regard previou note see account non alltop tweet',\n",
              " 'feel pretti sleepi want hang tomorrow hope prom kid fun',\n",
              " 'think time kill zombi',\n",
              " 'sweetwhirl thank followfriday mention',\n",
              " 'go bed gotta lot energi play littl man pooch',\n",
              " 'good night went dinner mom get paycheck coffe realli low key tonight good',\n",
              " 'artdoodad oh fun love process amp get use result send link make stamp want share',\n",
              " 'hey messag wear peac bracelet repres',\n",
              " 'gmmlive tomorrow go bright amp earli tent',\n",
              " 'howlingeverett would cool got right monkey made fifth one',\n",
              " 'kath enough bodi hair qualifi',\n",
              " 'bed time',\n",
              " 'melissamoog date alway end twitter anyth web site',\n",
              " 'ronni finish whole bottl wine biggi realli shrink said bottl hurt',\n",
              " 'gonna good time screw everyon els',\n",
              " 'ethansuple oregon got marri oregon',\n",
              " 'daniel know right like quot super quot follow',\n",
              " 'thank everyon follow realli enjoy tweet may tweet happili amp merrili continu',\n",
              " 'revstacey know number',\n",
              " 'twistedmacsista anonim advantag',\n",
              " 'hope bunni find carrot left',\n",
              " 'got earli took hour nap blowin amp watch movi',\n",
              " 'tinyvamp sure recommend like everi scent http www waxmancandl com index php',\n",
              " 'good night everyon love craig',\n",
              " 'whatcaitlindid long time twitter monday busi could help revis math good teacher xoxo',\n",
              " 'shannonleto aww bless',\n",
              " 'goldyfinch late hv alreadi cross dark side sticki toffe pud year wish luck amp thk tip c cream',\n",
              " 'vampirekitten lol sound like everi model ever work must get hang',\n",
              " 'debat boy color write pitboard today lol',\n",
              " 'love new profil',\n",
              " 'raeknightowl haha lord heard prayer',\n",
              " 'http bug launchpad net bug realli need get fix',\n",
              " 'nickgonio thank made airport pete passport seem work see ya week',\n",
              " 'awak readi day',\n",
              " 'winson great look forward feedback',\n",
              " 'londicr hi londi thank compliment love work',\n",
              " 'wast servic keep track servic avail twitter',\n",
              " 'sofia wont read till get back youll wait line right lol day final here lol much fun',\n",
              " 'go fli turkey coupl hour',\n",
              " 'davidcoalli cakeri',\n",
              " 'ye ye',\n",
              " 'marco cali nope unexpect happen sister arriv home im gonna spend time',\n",
              " 'follow lc step pratt miss hill havent seen late',\n",
              " 'yehey may pictur na ako',\n",
              " 'robpattinson love work twilight',\n",
              " 'listen new maccabe stuff',\n",
              " 'assign',\n",
              " 'good morn friend yonishtrash hicer bobbarclay snooki amiti cafe uscrudeoil great day',\n",
              " 'http twitpic com ead new haircut yay',\n",
              " 'locki got vapor rub',\n",
              " 'drinki dranki drunk bed feel nice im listen kaskad cuz well gnight suckahz',\n",
              " 'got email euromillion enough set record label least get first round bar',\n",
              " 'perrynobl think chick fil kinda morn anderson c mon perri know wanna',\n",
              " 'hannahwint look stronger',\n",
              " 'rise shine twitter go feed homeless today get dress set go',\n",
              " 'larasexypanti hey need chat sometim soon hope ok',\n",
              " 'classic one hit wonder fail get ya movin come eileen http blip fm etcn',\n",
              " 'starsnostar next make penis work art cours respons would quot understand quot',\n",
              " 'toysrevil astrodud post man let know arriv wwr piec btw',\n",
              " 'brianzwolinski good luck hope your well',\n",
              " 'emilyhal follow mcfli fate ahahaha',\n",
              " 'ct x thnx found',\n",
              " 'watch one tree hilllllll',\n",
              " 'createandinv make third need fuel busi day fill order',\n",
              " 'antiquebasket complain',\n",
              " 'netflix awesom custom servic mention great product',\n",
              " 'mistymoodl cool',\n",
              " 'daniesq know alway earli weekend',\n",
              " 'mariahcarey tweet might well chit chat haha',\n",
              " 'drink much vodka haha yay',\n",
              " 'clothcouturellc guess specifi kid need news one',\n",
              " 'chrisbrogan quot summer look quot mr brogan',\n",
              " 'trevermendham thank followfriday head',\n",
              " 'itswendyl thank happi saturday',\n",
              " 'buhahaha time massiv follow furri',\n",
              " 'realiz pit hand toilet thank god noth button work',\n",
              " 'marshallkarp ps blame mr westwick total',\n",
              " 'matttbastard uncool think drink ars feck think',\n",
              " 'hooray stalker spi spi find ok win round hide n seek',\n",
              " 'mehmetemin realli great song',\n",
              " 'onfrozenblog see sinc citi field first hand knowledg',\n",
              " 'jyonjacob ed westwick hot right',\n",
              " 'well goodnyt tweet tomorrow',\n",
              " 'think templat plurk gue yg skrg gimana hahaha http plurk com p bd',\n",
              " 'good morn tweep day begin wish luck',\n",
              " 'earli saturday mad',\n",
              " 'watch twlight comentari',\n",
              " 'way work bead store last day home work new jewelri design',\n",
              " 'hotsport man would awesom bet kid would get along famous mayb one day happen',\n",
              " 'mommi jl good look said littl prayer littl one',\n",
              " 'omg rain go sit outsid get soak wet second thought that bad idea gt lt',\n",
              " 'well new colt post myspac websit join us myspac http tinyurl com cnyn l',\n",
              " 'aceconcierg enjoy weekend suzi',\n",
              " 'doubletroubledi lulu follow twitter',\n",
              " 'like awaken',\n",
              " 'davorg case im gonna start tweet nymphoman pub owner like cook well worth shot eh',\n",
              " 'calliesink pleasur thank',\n",
              " 'love wolverin',\n",
              " 'xoxovideogirl hey hun good thank ye still rememb user pass check',\n",
              " 'new day time sit noth hour gonna home day call wanna talk',\n",
              " 'whew homepag design done done',\n",
              " 'think motion citi soundtrack need start record alreadi',\n",
              " 'akparisi thank',\n",
              " 'emot stuff human love accept exactli',\n",
              " 'heartoffir okay doke u neil',\n",
              " 'djalizay ill walk love anim',\n",
              " 'paulissima real life offlin worri happi',\n",
              " 'crimesinthemosh gonna buy plane tix convinc wait day monitor price trip confirm',\n",
              " 'high hell like forev watch mtv cindi',\n",
              " 'ototallyuniqueo good thank',\n",
              " 'queenoftheclick sound realli good probabl leftov good leftov dijon chicken frittata',\n",
              " 'bloggernott due three week normal would jump chanc work new project new ppl pretti cover',\n",
              " 'pupakat agre friend work citrix use work appl confirm well done',\n",
              " 'listen mix cd kayla burn',\n",
              " 'marybeverli send sun way plz nyc call lotsa rain',\n",
              " 'richardhil next post sent star right star lil swirli arrow arrow sign',\n",
              " 'time disconnect fantast dinner wait great friend cant get enough',\n",
              " 'dayvon lol sure haha gt paypal',\n",
              " 'well saw inkheart quit enjoy realli',\n",
              " 'saw gentlemen honor societi soundcheck',\n",
              " 'nkotbgermani',\n",
              " 'hellogoodby walk distanc hous exactli hour bad cant go',\n",
              " 'wowzer twitter absent funilli enough wthdrawal symptom woo hoo addict',\n",
              " 'newedg thank follow new icon look great',\n",
              " 'love smile yea old school r amp b',\n",
              " 'deirdrakiai think gonna demand pic one',\n",
              " 'quicki workout amp watch satc',\n",
              " 'hi school model search work today aka employe get dress like win',\n",
              " 'elenaxoxo ow burn didnt go away month feel better',\n",
              " 'anyon els live area resist chang hard get peopl join quot green quot movement frustrat',\n",
              " 'last min trip austin woot',\n",
              " 'hair done',\n",
              " 'monkey minion',\n",
              " 'well hello rain mother natur way forc wear hair curli formal tonight haha',\n",
              " 'http www justin tv nexi lt watch u love mlg',\n",
              " 'mirandabuzz well go go bed tri sleep sick good night',\n",
              " 'tinyksass oh well ti first time',\n",
              " 'deker think site stupid care still sweeti',\n",
              " 'first day twitter world complet sure goodnight world',\n",
              " 'moviesontcm problem',\n",
              " 'one song littl boom boom pow bed yay late night',\n",
              " 'arriv north carolina',\n",
              " 'wait leav watch wed crasher',\n",
              " 'yipcoyot saturday night',\n",
              " 'goodiemonst quit endors request key golden palac',\n",
              " 'katelyniscool meow loud meow ass meow floor laugh',\n",
              " 'bunki sound good',\n",
              " 'justbon eurovis exactli',\n",
              " 'benjaminw glad ya like think blue moon accept dude',\n",
              " 'damn youtub delet find tweet',\n",
              " 'chri emerson damn that suck well guess tri next time alreadi follow hehe',\n",
              " 'oh melbourn least u kick goal last qtr',\n",
              " 'start paint old bath use flower bed iz creativ',\n",
              " 'scarletmandi good woke tweetbrk nap gettin tweet whoot whoot',\n",
              " 'bridget cook keep preserv share recip pickl sure',\n",
              " 'mambamvp lmao told laker armi myspac go jump',\n",
              " 'mileycyru past bedtim kid',\n",
              " 'pleas visit follow site http www youtub com helloimnicknarnia dont afraid',\n",
              " 'peopl get ont twitter late go facebook',\n",
              " 'got www tourcrush com messag board talk prop marriag http tinyurl com cjvbc',\n",
              " 'benmschofield heyi check ur music ur myspac love xx lt',\n",
              " 'raspberri fill chocol ravioli high',\n",
              " 'alvinko got tweeti ipod touch pretti sweet ha got chanc listen fleet fox yet lolla',\n",
              " 'man crazi connect world creat take step back freak',\n",
              " 'sethfan gonna restart comput super quick min',\n",
              " 'snedwan good luck today fun fall',\n",
              " 'http twitpic com gw e minauderi true',\n",
              " 'courgamm hahahaha luhhh lt ttyt',\n",
              " 'hillao guess',\n",
              " 'hello world good morn sunshin good see fine',\n",
              " 'somersetbob morn bob hope good day today',\n",
              " 'lenuag nice meet u chile wait ur answer',\n",
              " 'watch v v turn goodnight',\n",
              " 'figur want dream build',\n",
              " 'got clubbin feel way awak wanna go anoth round dammit',\n",
              " 'verkoren blip fm song post twitter',\n",
              " 'predivorcepow like outer circl inner circl step back lot distract thank',\n",
              " 'runnrgrl thank ill tweet updat',\n",
              " 'gettin ticket dour',\n",
              " 'joyandlif thank much ff beauti sunday',\n",
              " 'forsgren',\n",
              " 'jay brother soooo tire',\n",
              " 'pjredd read quot atmospheremong quot see mistak sorri interrupt joshr',\n",
              " 'maryborough rsl guy electr guitar play great music sweet home alabama april sun cuba',\n",
              " 'shower soon read geopolit listen king leon',\n",
              " 'home relax cant wait see besti morrw hope well enough go citi woot',\n",
              " 'mariosoultruth mannn im amp quot quot break banga turn sexi slow ballad gon hott',\n",
              " 'sam inde someon said pertin question quot u still speak esperanto quot',\n",
              " 'good morn world idea im earli let chat hit cell wanna',\n",
              " 'glastowatch thank laugh hope pig start worldwid panic well',\n",
              " 'lt x men sooo mani hot men yumm',\n",
              " 'trekkerguy repli post thank hug',\n",
              " 'shaundiviney sure',\n",
              " 'minut till get smelli cast lol rip fat ranga c lololol see fighter lol',\n",
              " 'olorinlorien hungov stop drink last night bodi said still lie bed nicolaherbert make tea coffe',\n",
              " 'candyma candi dont stop believ',\n",
              " 'watch logi eat home made pie pj awesom night',\n",
              " 'sent email toni blackburn blame lol',\n",
              " 'good sunday twitter ride die peep',\n",
              " 'obox obox game know great day',\n",
              " 'oh hangov kick like everyon sunni sunday afternoon',\n",
              " 'redcherryxoxo visit kimbobl',\n",
              " 'chrisvanb heck ye hate stuff anyway say buy',\n",
              " 'sushi could mistak made bigger one',\n",
              " 'mojoguzzi drink cognac yesterday afternoon actual ye medicin purpos must think',\n",
              " 'epcotx twitbotnew gmoney ty folfriday recommend twitter cheer thank gmoney',\n",
              " 'follow dare',\n",
              " 'join forc great night end stay booti beast social night jam thank',\n",
              " 'pacquiao realli one filipino pride',\n",
              " 'ook im goign watch he hope good',\n",
              " 'sophiest good luck sophia',\n",
              " 'llisalang',\n",
              " 'via paulaboardman checker look like cross denis ozzi http twitter com paulaboardman status',\n",
              " 'scope phill thank model playboy',\n",
              " 'last minut rhu monday interest peopl inspir present juici steak http cli gs q yx',\n",
              " 'northant motley moot beltain picnic sun woop woop',\n",
              " 'torzilala yeah surviv went doctor bit wors flu good day',\n",
              " 'drink milk eat yummi cooki life',\n",
              " 'might wet excit day footi sun wine pizza liv',\n",
              " 'dominiccampbel annemcx part quot bank quot group westminst http bit ly cb still got theme',\n",
              " 'dave matthew best http blip fm h es',\n",
              " 'watch jona',\n",
              " 'anfield wait game start',\n",
              " 'lexistargirl amaz hahahah thank couldnt believ saw realli sweet yess song',\n",
              " 'adamsconsult problem great look forward see tweet',\n",
              " 'emzyjona know find new layout hard',\n",
              " 'mistressmia lol guess express',\n",
              " 'joeymarieward ohh boy crazi marlatt',\n",
              " 'jearl sound like viz top tip true',\n",
              " 'alyssa milano thank account info verifi got rid fake jordan last night thank truthtweet impostor',\n",
              " 'annwhit bye',\n",
              " 'wake bright earli sunday feel good',\n",
              " 'readi freepeep time church',\n",
              " 'still definit worth get one',\n",
              " 'dominuz pretti good even resembl bit comic gave year ago',\n",
              " 'officialtila dude total found someon look like last night amaz say least',\n",
              " 'staff room bore need sit',\n",
              " 'nadianv oh real shown would love check congrat get gig',\n",
              " 'myfutur didnt know year old rode bmx that cute hahaha',\n",
              " 'hoppusday markhoppu happi hoppu day rock',\n",
              " 'way church wow sore jog skate bowl',\n",
              " 'talk footbal lunchtim anyth wors happi hoppusday everyon mother day fuckin amp touchin amp suckin hahhah',\n",
              " 'chelsiesaid open coffe shop weekend',\n",
              " 'still wait follow helper pleas',\n",
              " 'martyfriend btw love extra organ solo pm last night',\n",
              " 'go mall',\n",
              " 'late reaction filipino pride vatti record match',\n",
              " 'ngb neither',\n",
              " 'chocolatebox haha went red mine love',\n",
              " 'give pughug emmythecat henryandfriend fergusthedog pass three pughug free hug anyon pawpawti',\n",
              " 'tll corner bathroom obtain said bead',\n",
              " 'feel well think colleg tuesday make wors haha',\n",
              " 'maiyab check blip playlist sure make great store though earn real kudo amp legal free music',\n",
              " 'markhoppu good morn mark hope enjoy hoppusday thing',\n",
              " 'recov camp rave last bank holiday',\n",
              " 'good morn finish appl fritter breakfast fruit serv day',\n",
              " 'mfhorn sheff wed fan moon well done inde birmingham',\n",
              " 'back newark airport termin wait board flight go see rayray afternoon',\n",
              " 'johnnyfirecloud love antiquiet tho def keep thank much info rock happi sunday',\n",
              " 'mmm french toast',\n",
              " 'woke derek sheppard voic',\n",
              " 'mileycyru chang life thankyou love much god bless hero',\n",
              " 'shop brunch pour rain love gf wait see today fb',\n",
              " 'relax hard shop day',\n",
              " 'ohkay new obbess secret handshak check em',\n",
              " 'fearnecotton listen show whilst cook good laura kelli heidi sarah x',\n",
              " 'download hm movi better work time alreadi',\n",
              " 'adamjcosburn definit feel better',\n",
              " 'pedroc aahh cuddi power truli sexi',\n",
              " 'sam ho haha aww tri focu fail googl answer haha',\n",
              " 'care n e say smith rock back n day',\n",
              " 'use ai anyway get power go use us batteri',\n",
              " 'gavinbwatson ye xoxo',\n",
              " 'markwarren welcom',\n",
              " 'helen bop sorri like watch movi explooos big screen',\n",
              " 'hello everybodi',\n",
              " 'good sunday morn rain go make potato soup dinner rest day lazi day',\n",
              " 'thnx gurli mom promis win whole thing buy new tenni cloth im shop tenni place right',\n",
              " 'tracecyru hey brudder miss sooo much come back tour see',\n",
              " 'aaaand final laptop fulli charg yay',\n",
              " 'geoffthedit ahaha funni',\n",
              " 'mcraddict love heaven help us favourit b side histori ever',\n",
              " 'play volleybal ammm know hahaha love ya girll juli l',\n",
              " 'tvwxman watch butter challeng iron chef love watch iron chef im bord',\n",
              " 'eat famili',\n",
              " 'violajayn tri ask tweetdeck sure happi help',\n",
              " 'cultvin ohhhh sorri miss fun work fl bad either orlando west coast fl',\n",
              " 'ellapaigebab worryi forget go backstag show',\n",
              " 'real nash eat balut dude ask much http en wikipedia org wiki balut egg',\n",
              " 'home play texa hold em',\n",
              " 'got hey monday shirt',\n",
              " 'final home amp amp rain gloomi day guess ju sit home amp amp watch movi amp amp eat popcorn dayi',\n",
              " 'month work form home time',\n",
              " 'go bath gotta start microcontrol prep moro xam',\n",
              " 'erdoland great hang napoconf hope fun disney',\n",
              " 'campbellclaret oooo play',\n",
              " 'enriqu iglesia denmark woooaw coool b',\n",
              " 'play sim talk phone alexandra birthday day',\n",
              " 'lay bed watch movi thinkin nap',\n",
              " 'plan birthday partayyyi',\n",
              " 'much run around today least product day time relax prepar anoth work week',\n",
              " 'emmyhasagun favorit line song',\n",
              " 'e l b w f v e love demi sit outsid thank good outdoor wifi',\n",
              " 'donaji hahaha may b next week',\n",
              " 'leav go back chicago back move th miss much',\n",
              " 'look ahead readi make awesom week want get sunday night know total rock go woohoo',\n",
              " 'amaz procrastin today actual get free time tonight',\n",
              " 'mcevoy rachael yeah hannah montana one like song haha cool x',\n",
              " 'chrisaffair http twitpic com u whoo that crazaaay',\n",
              " 'hydroson excit see',\n",
              " 'drove tucker chillin oh madisonwild crazi haha littl ilybff l lt',\n",
              " 'davegarnar everyon want look like coupla year ago honestli noth worri',\n",
              " 'podcast episod upload type subscrib pleas www randolphstproduct mypodcast com thank',\n",
              " 'naptim thanx follow hit today thank part tweet fam',\n",
              " 'went see wolverin',\n",
              " 'dirkey hey gonna pa mid may tri connect djembech amp mrskennyd lunch one day perhap',\n",
              " 'got jaim right',\n",
              " 'tri dress get readi chariti event tomorrow southampton glass wine glass',\n",
              " 'liodain oh hey welcom crack get use',\n",
              " 'rikki nd u nurs battl wound amp heart',\n",
              " 'follow mattsmind follow away help',\n",
              " 'amf especi sinc rain',\n",
              " 'rodjek noth leg warmer fix',\n",
              " 'ferngulli',\n",
              " 'anima holi shit',\n",
              " 'christiinn awee babi mamma hope tomorrow better',\n",
              " 'mzjazze two third actual',\n",
              " 'henriqoliv say anyth great song http blip fm isvn',\n",
              " 'supa bore fix aim everyon get twitter updat deliv',\n",
              " 'recommend dcjc tea parti http tparti com',\n",
              " 'xitsmatt aww thank even dont say love thing',\n",
              " 'sweetwhirl mflower thank much go proud papa mode tri post everi singl pic',\n",
              " 'aquariu thank follow hint never figur twitter lol enjoy',\n",
              " 'drew miller forget longer live texa good bbq good steak',\n",
              " 'time bed earli shift tomorrow',\n",
              " 'thig nat got email friend get home sure repli wait check',\n",
              " 'mini trip erin florida june got better',\n",
              " 'lindascrush oh well saw twosteppin knew meant',\n",
              " 'johnchow thank follow',\n",
              " 'ibosmiley much season right thing pick june festiv',\n",
              " 'alway fun time ilyc er love em',\n",
              " 'chri daughtri new album come canada',\n",
              " 'sixgaug im follow u man follow',\n",
              " 'ultramagnet butttt mine u eeeat ummm gna tri tooo',\n",
              " 'ragdollgonewild pleas make saturday',\n",
              " 'ryantufo yep ps replay favorit kh avoid homework play save tomorrow',\n",
              " 'hope roomi becom obsess tri kill like one movi singl white femal',\n",
              " 'mrsnasirjon u rdi masterb hun cuz',\n",
              " 'tho applaud parent make otherwis today would noth reflect made interest lesson',\n",
              " 'red ut sand lash extens',\n",
              " 'way pick patti',\n",
              " 'iheartlh byl',\n",
              " 'maffyewww ye',\n",
              " 'varinn hey homi happi birthday massiv',\n",
              " 'khloekardashian believ elvi work burger king know khlo definatli bit mysteri',\n",
              " 'say hi tweeter hope everybodi bless weekend one day weekend pop',\n",
              " 'sizzlemak check celeb need intern quarterlif com intern examin column',\n",
              " 'new comput woot',\n",
              " 'johnnydamongirl long snore couch rulz',\n",
              " 'alright leav guy song bye bye third eye blind semi charm life http blip fm j bh',\n",
              " 'brainstorm design love',\n",
              " 'dhlawrencexvii go improv qualiti life end great posit other know',\n",
              " 'read read read poker face lalala',\n",
              " 'happi content',\n",
              " 'latexloverm oh ok haha anoth citi capit',\n",
              " 'kimkardashian omg luve wait see kri monkey',\n",
              " 'let see what demand catch guy later amp nanci good luck hun',\n",
              " 'squishymatt alway welcom',\n",
              " 'good nite everyon best wish final student amp rest u real world tri enjoy ur work week p',\n",
              " 'hilarynghtmar yess know omg wait till come back laaa',\n",
              " 'metaphoricxey hmm let see work yak yak cool yak call water bison asia momo fli bison avatar',\n",
              " 'unexpect twist turn dvd hooray cant wait jog littl gray cell',\n",
              " 'mdalin never occur',\n",
              " 'final met someon first time today tri long haha',\n",
              " 'carlyluvsunit ward ward live',\n",
              " 'therealnuma awesom got busi two week uni birthday melbourn',\n",
              " 'eugenekhoo paper didnt mention anyth hit blogout earli year well',\n",
              " 'lilapp lol thank tri steal show',\n",
              " 'found got push chair hit head wheelbarrow last night took beat thank vodka',\n",
              " 'rap fa learn good news ad david congratul wait see',\n",
              " 'yomcat cheer man',\n",
              " 'crossroad hair cut colour braid winter exam soon',\n",
              " 'well need get bed chat everyon tomorrow',\n",
              " 'british expat twitt tommi giant sprout especi fli part sprout sea http tinyurl com c kvb',\n",
              " 'dyeded hair',\n",
              " 'mizhal http blip fm jbp',\n",
              " 'fanci hun got u doin thing u aint never done',\n",
              " 'realli needa find stastic',\n",
              " 'invit join group second life call quot ballist autist quot cute name',\n",
              " 'gonna get tan white',\n",
              " 'hr time uni wait start st exam scari work hard morn though feel ok atm',\n",
              " 'mommymus thank hint http tinyurl com chtx e',\n",
              " 'good morn haha read swine flu probabl come pig peopl poor pig got blame',\n",
              " 'play',\n",
              " 'lopezwilfr yeah lookout tweet happi tweet',\n",
              " 'staceeeee goodnight cuppycak hope good day feel blah xxoo',\n",
              " 'get dinner',\n",
              " 'ksidney wolverin great must see',\n",
              " 'thorney forget edinburgh check edinburghac org uk',\n",
              " 'deplurk buhbyee http plurk com p rp ir',\n",
              " 'eat tito home made ice cream yum',\n",
              " 'drill sergeant voic everybodi wake fuck flick everyon light est rise shine beetch lol jk',\n",
              " ...]"
            ]
          },
          "metadata": {},
          "execution_count": 24
        }
      ]
    },
    {
      "cell_type": "code",
      "source": [
        "corpus[1]"
      ],
      "metadata": {
        "colab": {
          "base_uri": "https://localhost:8080/",
          "height": 36
        },
        "id": "JL_kR9F_HS-_",
        "outputId": "20ceee7d-eb15-4a6d-bd3e-ef9375f0443c"
      },
      "execution_count": 25,
      "outputs": [
        {
          "output_type": "execute_result",
          "data": {
            "text/plain": [
              "'read manga http plurk com p mzp e'"
            ],
            "application/vnd.google.colaboratory.intrinsic+json": {
              "type": "string"
            }
          },
          "metadata": {},
          "execution_count": 25
        }
      ]
    },
    {
      "cell_type": "code",
      "source": [
        "# Using one hot,finding out word index present in sentence"
      ],
      "metadata": {
        "id": "86RSOlfHYXq6"
      },
      "execution_count": 26,
      "outputs": []
    },
    {
      "cell_type": "code",
      "source": [
        "onehot_rep=[one_hot(words,voc_size) for words in corpus]\n",
        "onehot_rep[:5]"
      ],
      "metadata": {
        "colab": {
          "base_uri": "https://localhost:8080/"
        },
        "id": "u0AleoYvHIwM",
        "outputId": "a5cd1b7c-2a25-423e-9419-551f936cca56"
      },
      "execution_count": 27,
      "outputs": [
        {
          "output_type": "execute_result",
          "data": {
            "text/plain": [
              "[[2016, 1912, 591, 2132, 372],\n",
              " [853, 4362, 2814, 777, 592, 801, 4130, 2889],\n",
              " [1154, 2814, 2383, 592, 1222, 2814, 27, 3437, 592, 2422, 2665, 473],\n",
              " [4306, 1523, 1397, 857, 2254, 3214, 1563, 664, 1004, 474, 3365, 3247, 4505],\n",
              " [1506, 775, 775, 592, 742]]"
            ]
          },
          "metadata": {},
          "execution_count": 27
        }
      ]
    },
    {
      "cell_type": "code",
      "source": [
        "# Using pad sequence for equal in word lenght size "
      ],
      "metadata": {
        "id": "GtEHtZDmYky5"
      },
      "execution_count": 28,
      "outputs": []
    },
    {
      "cell_type": "code",
      "source": [
        "sent_length=90\n",
        "embedded_docs=pad_sequences(onehot_rep,padding='pre',maxlen=sent_length)\n",
        "print(embedded_docs)"
      ],
      "metadata": {
        "colab": {
          "base_uri": "https://localhost:8080/"
        },
        "id": "shYPFGxmHQXV",
        "outputId": "8a334849-738b-4bba-846c-120e0aaef703"
      },
      "execution_count": 29,
      "outputs": [
        {
          "output_type": "stream",
          "name": "stdout",
          "text": [
            "[[   0    0    0 ...  591 2132  372]\n",
            " [   0    0    0 ...  801 4130 2889]\n",
            " [   0    0    0 ... 2422 2665  473]\n",
            " ...\n",
            " [   0    0    0 ... 2814  246 3312]\n",
            " [   0    0    0 ...  658 4955  857]\n",
            " [   0    0    0 ...    0    0    0]]\n"
          ]
        }
      ]
    },
    {
      "cell_type": "code",
      "source": [
        "# transformation from word index to vector "
      ],
      "metadata": {
        "id": "DJpTNt_kY_zB"
      },
      "execution_count": 30,
      "outputs": []
    },
    {
      "cell_type": "code",
      "source": [
        "embedding_vector_features=40\n",
        "model=Sequential()\n",
        "model.add(Embedding(voc_size,embedding_vector_features,input_length=sent_length))\n",
        "model.add(LSTM(100))\n",
        "model.add(Dense(1,activation='sigmoid'))\n",
        "model.compile(loss='binary_crossentropy',optimizer='adam',metrics=['accuracy'])\n",
        "print(model.summary())"
      ],
      "metadata": {
        "colab": {
          "base_uri": "https://localhost:8080/"
        },
        "id": "vOBjEoi8HZTS",
        "outputId": "4d37bd9b-e1fe-4749-9ca2-b35b07750e95"
      },
      "execution_count": 31,
      "outputs": [
        {
          "output_type": "stream",
          "name": "stdout",
          "text": [
            "Model: \"sequential\"\n",
            "_________________________________________________________________\n",
            " Layer (type)                Output Shape              Param #   \n",
            "=================================================================\n",
            " embedding (Embedding)       (None, 90, 40)            200000    \n",
            "                                                                 \n",
            " lstm (LSTM)                 (None, 100)               56400     \n",
            "                                                                 \n",
            " dense (Dense)               (None, 1)                 101       \n",
            "                                                                 \n",
            "=================================================================\n",
            "Total params: 256,501\n",
            "Trainable params: 256,501\n",
            "Non-trainable params: 0\n",
            "_________________________________________________________________\n",
            "None\n"
          ]
        }
      ]
    },
    {
      "cell_type": "code",
      "source": [
        "X_final=np.array(embedded_docs)\n",
        "y_final=np.array(label)"
      ],
      "metadata": {
        "id": "mXlkYL5YHbxd"
      },
      "execution_count": 32,
      "outputs": []
    },
    {
      "cell_type": "code",
      "source": [
        "X_final.shape,y_final.shape"
      ],
      "metadata": {
        "colab": {
          "base_uri": "https://localhost:8080/"
        },
        "id": "Y1_arQZPHej_",
        "outputId": "083bff53-394a-480d-a2fd-7994349d0900"
      },
      "execution_count": 33,
      "outputs": [
        {
          "output_type": "execute_result",
          "data": {
            "text/plain": [
              "((10314, 90), (10314,))"
            ]
          },
          "metadata": {},
          "execution_count": 33
        }
      ]
    },
    {
      "cell_type": "code",
      "source": [
        "from sklearn.model_selection import train_test_split"
      ],
      "metadata": {
        "id": "VvvtXWbXHlk0"
      },
      "execution_count": 34,
      "outputs": []
    },
    {
      "cell_type": "code",
      "source": [
        "# Increasing weight of label 1 by 3 times"
      ],
      "metadata": {
        "id": "EwMFg3_GZN54"
      },
      "execution_count": 35,
      "outputs": []
    },
    {
      "cell_type": "code",
      "source": [
        "weights_assigned={0:1,1:300}"
      ],
      "metadata": {
        "id": "zq6C88bnR7Km"
      },
      "execution_count": 36,
      "outputs": []
    },
    {
      "cell_type": "code",
      "source": [
        "X_train,X_test,y_train,y_test=train_test_split(X_final,y_final,test_size=0.2,random_state=15)"
      ],
      "metadata": {
        "id": "SZLsW6s2Ho0r"
      },
      "execution_count": 37,
      "outputs": []
    },
    {
      "cell_type": "code",
      "source": [
        "model.fit(X_train,y_train,validation_data=(X_test,y_test),epochs=10,batch_size=60,class_weight=weights_assigned)"
      ],
      "metadata": {
        "colab": {
          "base_uri": "https://localhost:8080/"
        },
        "id": "1LXpNfbSIL2I",
        "outputId": "85a879df-fa76-4fca-f746-8590869d6238"
      },
      "execution_count": 38,
      "outputs": [
        {
          "output_type": "stream",
          "name": "stdout",
          "text": [
            "Epoch 1/10\n",
            "138/138 [==============================] - 5s 13ms/step - loss: 7.0911 - accuracy: 0.2315 - val_loss: 3.5630 - val_accuracy: 0.2021\n",
            "Epoch 2/10\n",
            "138/138 [==============================] - 1s 10ms/step - loss: 2.9082 - accuracy: 0.2823 - val_loss: 1.0830 - val_accuracy: 0.4741\n",
            "Epoch 3/10\n",
            "138/138 [==============================] - 1s 9ms/step - loss: 0.9741 - accuracy: 0.8129 - val_loss: 0.4736 - val_accuracy: 0.7833\n",
            "Epoch 4/10\n",
            "138/138 [==============================] - 1s 9ms/step - loss: 0.4196 - accuracy: 0.9544 - val_loss: 0.4893 - val_accuracy: 0.7659\n",
            "Epoch 5/10\n",
            "138/138 [==============================] - 1s 9ms/step - loss: 0.2706 - accuracy: 0.9653 - val_loss: 0.2023 - val_accuracy: 0.9443\n",
            "Epoch 6/10\n",
            "138/138 [==============================] - 1s 11ms/step - loss: 0.1835 - accuracy: 0.9823 - val_loss: 0.0808 - val_accuracy: 0.9830\n",
            "Epoch 7/10\n",
            "138/138 [==============================] - 1s 11ms/step - loss: 0.2153 - accuracy: 0.9771 - val_loss: 0.0711 - val_accuracy: 0.9811\n",
            "Epoch 8/10\n",
            "138/138 [==============================] - 2s 16ms/step - loss: 0.1167 - accuracy: 0.9891 - val_loss: 0.0680 - val_accuracy: 0.9787\n",
            "Epoch 9/10\n",
            "138/138 [==============================] - 2s 16ms/step - loss: 0.0731 - accuracy: 0.9949 - val_loss: 0.0670 - val_accuracy: 0.9758\n",
            "Epoch 10/10\n",
            "138/138 [==============================] - 2s 15ms/step - loss: 0.1433 - accuracy: 0.9965 - val_loss: 0.0754 - val_accuracy: 0.9729\n"
          ]
        },
        {
          "output_type": "execute_result",
          "data": {
            "text/plain": [
              "<keras.callbacks.History at 0x7fb9400dcb50>"
            ]
          },
          "metadata": {},
          "execution_count": 38
        }
      ]
    }
  ]
}